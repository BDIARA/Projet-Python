{
  "nbformat": 4,
  "nbformat_minor": 0,
  "metadata": {
    "colab": {
      "provenance": [],
      "toc_visible": true
    },
    "kernelspec": {
      "name": "python3",
      "display_name": "Python 3"
    },
    "language_info": {
      "name": "python"
    }
  },
  "cells": [
    {
      "cell_type": "code",
      "execution_count": 1,
      "metadata": {
        "colab": {
          "base_uri": "https://localhost:8080/"
        },
        "id": "bMQ1u827Q_rA",
        "outputId": "b0d8f664-68ad-47df-8c45-b87615e412ce"
      },
      "outputs": [
        {
          "output_type": "stream",
          "name": "stdout",
          "text": [
            "bonjour le monde\n"
          ]
        }
      ],
      "source": [
        "#Exercie1:Bonjour le monde\n",
        "print(\"bonjour le monde\")"
      ]
    },
    {
      "cell_type": "code",
      "source": [
        "#Exercice2:Calcul de l'âge\n",
        "anne=int (input (\"quelle est ton annee de naissance?\"))\n",
        "age=2024 - int(anne)\n",
        "print(\"vous avez\" + str(age)+\"ans\")"
      ],
      "metadata": {
        "colab": {
          "base_uri": "https://localhost:8080/"
        },
        "id": "i7S0cCASYy3b",
        "outputId": "662d422a-e67a-474b-c151-3c6ed9dfaa30"
      },
      "execution_count": 4,
      "outputs": [
        {
          "output_type": "stream",
          "name": "stdout",
          "text": [
            "quelle est ton annee de naissance?1999\n",
            "vous avez25ans\n"
          ]
        }
      ]
    },
    {
      "cell_type": "code",
      "source": [
        "#Exercice3: pair ou impair\n",
        "nombre = int(input(\"Entrez un nombre\"))\n",
        "if nombre % 2 == 0:\n",
        "    print(\"Le nombre est pair\")\n",
        "else:\n",
        "    print(\"Le nombre est impair\")"
      ],
      "metadata": {
        "colab": {
          "base_uri": "https://localhost:8080/"
        },
        "id": "TiJVxsC0cSKM",
        "outputId": "4b396792-cf8c-4568-c2db-98e618297188"
      },
      "execution_count": 7,
      "outputs": [
        {
          "output_type": "stream",
          "name": "stdout",
          "text": [
            "Entrez un nombre4\n",
            "Le nombre est pair\n"
          ]
        }
      ]
    },
    {
      "cell_type": "code",
      "source": [
        "#Exercice4: sommes de nombres\n",
        "nombre = int(input(\"Entrez un nombre\"))\n",
        "somme = 0\n",
        "for i in range(1, nombre + 1):\n",
        "    somme += i\n",
        "print(\"La somme des nombres de 1 à\", nombre, \"est\", somme)"
      ],
      "metadata": {
        "colab": {
          "base_uri": "https://localhost:8080/"
        },
        "id": "cr5O1Sh1gfYx",
        "outputId": "00c73118-0eeb-4c74-9801-c6edaf489b6c"
      },
      "execution_count": 8,
      "outputs": [
        {
          "output_type": "stream",
          "name": "stdout",
          "text": [
            "Entrez un nombre2\n",
            "La somme des nombres de 1 à 2 est 3\n"
          ]
        }
      ]
    },
    {
      "cell_type": "code",
      "source": [
        "#Exercice5: Table de multiplication\n",
        "nombre = int(input(\"Entrez un nombre\"))\n",
        "for i in range(1, 11):\n",
        "    print(nombre, \"x\", i, \"=\", nombre * i)\n"
      ],
      "metadata": {
        "colab": {
          "base_uri": "https://localhost:8080/"
        },
        "id": "l5CmDX0qiFzY",
        "outputId": "dc292487-2e13-40c9-ea3f-24eeaec8ca97"
      },
      "execution_count": 10,
      "outputs": [
        {
          "output_type": "stream",
          "name": "stdout",
          "text": [
            "Entrez un nombre9\n",
            "9 x 1 = 9\n",
            "9 x 2 = 18\n",
            "9 x 3 = 27\n",
            "9 x 4 = 36\n",
            "9 x 5 = 45\n",
            "9 x 6 = 54\n",
            "9 x 7 = 63\n",
            "9 x 8 = 72\n",
            "9 x 9 = 81\n",
            "9 x 10 = 90\n"
          ]
        }
      ]
    },
    {
      "cell_type": "code",
      "source": [
        "#exercice6:trouver le plus grand nombre\n",
        "tab=[]\n",
        "T=int(input(\"Entrez la taille du tableau : \"))\n",
        "for i in range(T ):\n",
        "    nombre = int(input(f\"Entrez le nombre {i+1} =\"))\n",
        "    tab.append(nombre)\n",
        "plus_grand = max(tab)\n",
        "print(\"Le plus grand nombre est :\", plus_grand)\n",
        "\n",
        "\n"
      ],
      "metadata": {
        "colab": {
          "base_uri": "https://localhost:8080/"
        },
        "id": "ORlrxUpuiwtr",
        "outputId": "cd985085-f417-4d99-e192-d6ff78d36531"
      },
      "execution_count": 21,
      "outputs": [
        {
          "output_type": "stream",
          "name": "stdout",
          "text": [
            "Entrez la taille du tableau : 2\n",
            "Entrez le nombre 1 =1\n",
            "Entrez le nombre 2 =2\n",
            "Le plus grand nombre est : 2\n"
          ]
        }
      ]
    },
    {
      "cell_type": "code",
      "source": [],
      "metadata": {
        "id": "Ra7Ck3hRsk4s"
      },
      "execution_count": 21,
      "outputs": []
    },
    {
      "cell_type": "code",
      "source": [
        "#Exercice7: compter les voyelles\n",
        "chaine = input(\"Entrez une chaine de caractère\")\n",
        "voyelles = \"aeiouyAEIOUY\"\n",
        "compteur = 0\n",
        "for lettre in chaine:\n",
        "    if lettre in voyelles:\n",
        "        compteur += 1\n",
        "print(\"Le nombre de voyelles dans la chaine est :\", compteur)"
      ],
      "metadata": {
        "colab": {
          "base_uri": "https://localhost:8080/"
        },
        "id": "VSMocOWSm2Ud",
        "outputId": "8f28d47a-bcfd-46e0-cee8-0a00c5adf075"
      },
      "execution_count": 29,
      "outputs": [
        {
          "output_type": "stream",
          "name": "stdout",
          "text": [
            "Entrez une chaine de caractèremoussa\n",
            "Le nombre de voyelles dans la chaine est : 3\n"
          ]
        }
      ]
    },
    {
      "cell_type": "code",
      "source": [
        "#Exercice8:inverser une chaine\n",
        "chaine = input(\"Entrez une chaine de caractère\")\n",
        "chaine_inverse = chaine[::-1]\n",
        "print(\"La chaine inverse est :\", chaine_inverse)"
      ],
      "metadata": {
        "colab": {
          "base_uri": "https://localhost:8080/"
        },
        "id": "uBebxKDLvv1d",
        "outputId": "6a350c71-40fd-4aa3-e66e-0f2468c3b7ed"
      },
      "execution_count": 33,
      "outputs": [
        {
          "output_type": "stream",
          "name": "stdout",
          "text": [
            "Entrez une chaine de caractèremoussa\n",
            "La chaine inverse est : assuom\n"
          ]
        }
      ]
    },
    {
      "cell_type": "code",
      "source": [
        "#Exercice9:palindrome\n",
        "chaine = input(\"Entrez une chaine de caractère\")\n",
        "chaine_inverse = chaine[::-1]\n",
        "if chaine == chaine_inverse:\n",
        "    print(\"La chaine est un palindrome\")\n",
        "else:\n",
        "    print(\"La chaine n'est pas un palindrome\")"
      ],
      "metadata": {
        "colab": {
          "base_uri": "https://localhost:8080/"
        },
        "id": "JMurJjEOw3iR",
        "outputId": "e72c476f-5e46-4efb-f5f3-bc1280dcabdf"
      },
      "execution_count": 35,
      "outputs": [
        {
          "output_type": "stream",
          "name": "stdout",
          "text": [
            "Entrez une chaine de caractèreA\n",
            "La chaine est un palindrome\n"
          ]
        }
      ]
    },
    {
      "cell_type": "code",
      "source": [
        "#Exercice10:factorielle\n",
        "nombre = int(input(\"Entrez un nombre\"))\n",
        "fact = 1\n",
        "for i in range(1, nombre + 1):\n",
        "    fact *= i\n",
        "print(\"La factorielle de\", nombre, \"est\", fact)"
      ],
      "metadata": {
        "colab": {
          "base_uri": "https://localhost:8080/"
        },
        "id": "E557jmLwxUQH",
        "outputId": "9be1b063-c08d-45ba-880c-3a34df79bf0d"
      },
      "execution_count": 36,
      "outputs": [
        {
          "output_type": "stream",
          "name": "stdout",
          "text": [
            "Entrez un nombre3\n",
            "La factorielle de 3 est 6\n"
          ]
        }
      ]
    }
  ]
}